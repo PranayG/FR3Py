{
   "cells": [
      {
         "cell_type": "markdown",
         "metadata": {},
         "source": [
            "# Test In Simulation"
         ]
      },
      {
         "cell_type": "code",
         "execution_count": null,
         "metadata": {},
         "outputs": [],
         "source": [
            "from FR3Py.sim.mujoco import FR3Sim\n",
            "robot = FR3Sim(interface_type='velocity')"
         ]
      },
      {
         "cell_type": "code",
         "execution_count": null,
         "metadata": {},
         "outputs": [],
         "source": [
            "from ndcurves import SE3Curve\n",
            "import pinocchio as pin\n",
            "from FR3Py.robot.model import PinocchioModel\n",
            "model = PinocchioModel()"
         ]
      },
      {
         "cell_type": "code",
         "execution_count": null,
         "metadata": {},
         "outputs": [],
         "source": [
            "state = robot.getJointStates()\n",
            "info = model.getInfo(state['q'], state['dq'])"
         ]
      },
      {
         "cell_type": "code",
         "execution_count": null,
         "metadata": {},
         "outputs": [],
         "source": [
            "import numpy as np\n",
            "\n",
            "FSM = {\n",
            "        \"PRE-GRASP\": (np.array([[0.4], [0.4], [0.1], [0.04]]), 5.0),\n",
            "        \"GRASP\": (np.array([[0.4], [0.4], [0.0125], [0.04]]), 2.0),\n",
            "        \"CLOSE-GRASP\": (np.array([[0.4], [0.4], [0.013], [0.000]]), 2.0),\n",
            "        \"POST-GRASP\": (np.array([[0.4], [0.4], [0.1], [0.000]]), 2.0),\n",
            "        \"PRE-PLACE\": (np.array([[0.4], [-0.4], [0.1], [0.000]]), 5.0),\n",
            "        \"PLACE\": (np.array([[0.4], [-0.4], [0.013], [0.000]]), 2.0),\n",
            "        \"OPEN-GRASP\": (np.array([[0.4], [-0.4], [0.013], [0.04]]), 2.0),\n",
            "        \"POST-PLACE\": (np.array([[0.4], [-0.4], [0.1], [0.04]]), 2.0),\n",
            "        \"RETURN\": (np.array([[0.3], [0.0], [0.5], [0.00]]), 10.0),\n",
            "    }\n",
            "\n",
            "task_list = [\n",
            "    \"PRE-GRASP\",\n",
            "    \"GRASP\",\n",
            "    \"CLOSE-GRASP\",\n",
            "    \"POST-GRASP\",\n",
            "    \"PRE-PLACE\",\n",
            "    \"PLACE\",\n",
            "    \"OPEN-GRASP\",\n",
            "    \"POST-PLACE\",\n",
            "    \"RETURN\",\n",
            "]\n",
            "task_id = 0\n",
            "target, duration = FSM[task_list[task_id]]\n",
            "t = 0.0\n",
            "\n",
            "T_init = pin.SE3(info[\"R_EE\"].copy(), info[\"P_EE\"].copy())\n",
            "R_end = np.diag([1.0, -1.0, -1.0])\n",
            "p_end = target[:3, :]\n",
            "T_end = pin.SE3(R_end, p_end)\n",
            "t_init = t\n",
            "t_end = t + duration\n",
            "curve = SE3Curve(T_init, T_end, t_init, t_end)"
         ]
      },
      {
         "cell_type": "code",
         "execution_count": null,
         "metadata": {},
         "outputs": [],
         "source": [
            "import numpy as np\n",
            "from FR3Py.controllers.jacobianPseudoInv import WaypointController\n",
            "controller = WaypointController(kp=1.5)\n",
            "\n",
            "for i in range(40000):\n",
            "    state = robot.getJointStates()\n",
            "    info = model.getInfo(state['q'], state['dq'])\n",
            "    T = pin.SE3(info[\"R_EE\"].copy(), info[\"P_EE\"].copy())\n",
            "    t = np.clip(i * robot.dt, 0.0, t_end)\n",
            "    T_des = curve(t)\n",
            "    cmd = controller.compute(state['q'], state['dq'], T_cmd=T_des)\n",
            "    robot.setCommands(cmd)\n",
            "    robot.step()\n",
            "    error = np.linalg.norm(target[:3, 0] - info[\"P_EE\"])\n",
            "    if t >= t_end and error <= 0.005:\n",
            "        task_id = task_id + 1\n",
            "\n",
            "        if task_id >= len(task_list):\n",
            "            break\n",
            "\n",
            "        target, duration = FSM[task_list[task_id]]\n",
            "\n",
            "        T_init = pin.SE3(info[\"R_EE\"].copy(), info[\"P_EE\"].copy())\n",
            "        R_end = np.diag([1.0, -1.0, -1.0])\n",
            "        p_end = target[:3, 0]\n",
            "        T_end = pin.SE3(R_end, p_end)\n",
            "        t_init = t\n",
            "        t_end = t + duration\n",
            "        curve = SE3Curve(T_init, T_end, t_init, t_end)"
         ]
      },
      {
         "cell_type": "markdown",
         "metadata": {},
         "source": [
            "# Test with Real Robot"
         ]
      },
      {
         "cell_type": "code",
         "execution_count": null,
         "metadata": {},
         "outputs": [],
         "source": [
            "import sys \n",
            "from FR3Py.robot.interface import FR3Real\n",
            "robot = FR3Real(robot_id='fr3')"
         ]
      },
      {
         "attachments": {},
         "cell_type": "markdown",
         "metadata": {},
         "source": [
            "If the interface the successfully exchanging data between the robot and the Python side, we should be able to read the state of the robot. Otherwise, we will get a None."
         ]
      },
      {
         "cell_type": "code",
         "execution_count": null,
         "metadata": {},
         "outputs": [],
         "source": [
            "robot.getJointStates()"
         ]
      },
      {
         "cell_type": "code",
         "execution_count": null,
         "metadata": {},
         "outputs": [],
         "source": [
            "from ndcurves import SE3Curve\n",
            "import pinocchio as pin\n",
            "from FR3Py.robot.model import PinocchioModel\n",
            "model = PinocchioModel()"
         ]
      },
      {
         "cell_type": "code",
         "execution_count": null,
         "metadata": {},
         "outputs": [],
         "source": [
            "state = robot.getJointStates()\n",
            "info = model.getInfo(state['q'], state['dq'])"
         ]
      },
      {
         "cell_type": "code",
         "execution_count": null,
         "metadata": {},
         "outputs": [],
         "source": [
            "import numpy as np\n",
            "\n",
            "FSM = {\n",
            "        \"PRE-GRASP\": (np.array([[0.4], [0.4], [0.1], [0.04]]), 5.0),\n",
            "        \"GRASP\": (np.array([[0.4], [0.4], [0.0125], [0.04]]), 2.0),\n",
            "        \"CLOSE-GRASP\": (np.array([[0.4], [0.4], [0.013], [0.000]]), 2.0),\n",
            "        \"POST-GRASP\": (np.array([[0.4], [0.4], [0.1], [0.000]]), 2.0),\n",
            "        \"PRE-PLACE\": (np.array([[0.4], [-0.4], [0.1], [0.000]]), 5.0),\n",
            "        \"PLACE\": (np.array([[0.4], [-0.4], [0.013], [0.000]]), 2.0),\n",
            "        \"OPEN-GRASP\": (np.array([[0.4], [-0.4], [0.013], [0.04]]), 2.0),\n",
            "        \"POST-PLACE\": (np.array([[0.4], [-0.4], [0.1], [0.04]]), 2.0),\n",
            "        \"RETURN\": (np.array([[0.3], [0.0], [0.5], [0.00]]), 10.0),\n",
            "    }\n",
            "\n",
            "task_list = [\n",
            "    \"PRE-GRASP\",\n",
            "    \"GRASP\",\n",
            "    \"CLOSE-GRASP\",\n",
            "    \"POST-GRASP\",\n",
            "    \"PRE-PLACE\",\n",
            "    \"PLACE\",\n",
            "    \"OPEN-GRASP\",\n",
            "    \"POST-PLACE\",\n",
            "    \"RETURN\",\n",
            "]\n",
            "task_id = 0\n",
            "target, duration = FSM[task_list[task_id]]\n",
            "t = 0.0\n",
            "\n",
            "T_init = pin.SE3(info[\"R_EE\"].copy(), info[\"P_EE\"].copy())\n",
            "R_end = np.diag([1.0, -1.0, -1.0])\n",
            "p_end = target[:3, :]\n",
            "T_end = pin.SE3(R_end, p_end)\n",
            "t_init = t\n",
            "t_end = t + duration\n",
            "curve = SE3Curve(T_init, T_end, t_init, t_end)"
         ]
      },
      {
         "cell_type": "code",
         "execution_count": null,
         "metadata": {},
         "outputs": [],
         "source": [
            "state"
         ]
      },
      {
         "cell_type": "code",
         "execution_count": null,
         "metadata": {},
         "outputs": [],
         "source": [
            "import numpy as np\n",
            "from FR3Py.controllers.jacobianPseudoInv import WaypointController\n",
            "import time\n",
            "controller = WaypointController(kp=1.5)\n",
            "time.sleep(1)\n",
            "dt = 0.01\n",
            "for i in range(40000):\n",
            "    state = robot.getJointStates()\n",
            "    info = model.getInfo(state['q'], state['dq'])\n",
            "    T = pin.SE3(info[\"R_EE\"].copy(), info[\"P_EE\"].copy())\n",
            "    t = np.clip(i * dt, 0.0, t_end)\n",
            "    T_des = curve(t)\n",
            "    cmd = controller.compute(state['q'], state['dq'], T_cmd=T_des)\n",
            "    robot.setCommands(cmd)\n",
            "    time.sleep(dt)\n",
            "    error = np.linalg.norm(target[:3, 0] - info[\"P_EE\"])\n",
            "    if t >= t_end and error <= 0.005:\n",
            "        task_id = task_id + 1\n",
            "\n",
            "        if task_id >= len(task_list):\n",
            "            break\n",
            "\n",
            "        target, duration = FSM[task_list[task_id]]\n",
            "\n",
            "        T_init = pin.SE3(info[\"R_EE\"].copy(), info[\"P_EE\"].copy())\n",
            "        R_end = np.diag([1.0, -1.0, -1.0])\n",
            "        p_end = target[:3, 0]\n",
            "        T_end = pin.SE3(R_end, p_end)\n",
            "        t_init = t\n",
            "        t_end = t + duration\n",
            "        curve = SE3Curve(T_init, T_end, t_init, t_end)"
         ]
      }
   ],
   "metadata": {
      "kernelspec": {
         "display_name": "Python 3",
         "language": "python",
         "name": "python3"
      },
      "language_info": {
         "codemirror_mode": {
            "name": "ipython",
            "version": 3
         },
         "file_extension": ".py",
         "mimetype": "text/x-python",
         "name": "python",
         "nbconvert_exporter": "python",
         "pygments_lexer": "ipython3",
         "version": "3.10.12"
      }
   },
   "nbformat": 4,
   "nbformat_minor": 2
}
