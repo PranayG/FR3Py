{
 "cells": [
  {
   "cell_type": "code",
   "execution_count": null,
   "metadata": {},
   "outputs": [],
   "source": [
    "from FR3Py.sim.mujoco import FR3Sim"
   ]
  },
  {
   "cell_type": "code",
   "execution_count": null,
   "metadata": {},
   "outputs": [],
   "source": [
    "robot = FR3Sim(interface_type='velocity')"
   ]
  },
  {
   "cell_type": "code",
   "execution_count": null,
   "metadata": {},
   "outputs": [],
   "source": [
    "import numpy as np\n",
    "import time\n",
    "for i in range(1000):\n",
    "    robot.step()\n",
    "    robot.setCommands(np.array([0, 0, 0, 0, 0, 0, -1]))\n",
    "    time.sleep(robot.dt)"
   ]
  },
  {
   "cell_type": "code",
   "execution_count": null,
   "metadata": {},
   "outputs": [],
   "source": [
    "robot.getJointStates()"
   ]
  },
  {
   "cell_type": "code",
   "execution_count": null,
   "metadata": {},
   "outputs": [],
   "source": [
    "import time\n",
    "import numpy as np\n",
    "from FR3Py.controllers.jacobianPseudoInv import WaypointController\n",
    "\n",
    "controller = WaypointController(kp=1.5)\n",
    "# Read the initial state of the robot\n",
    "time.sleep(0.2)\n",
    "robot.reset()\n",
    "state = robot.getJointStates()\n",
    "if state is not None:\n",
    "    print('starting the controller')\n",
    "    q, dq = state['q'], state['dq']\n",
    "    q = np.hstack([q, np.zeros(2)])\n",
    "    dq = np.hstack([dq, np.zeros(2)]\n",
    "                   )\n",
    "    p0 = controller.robot.getInfo(q,dq)['P_EE']\n",
    "    R0 = controller.robot.getInfo(q,dq)['R_EE']\n",
    "    T0 = np.vstack([np.hstack([R0, p0.reshape(3,1)]), np.array([0,0,0,1])])\n",
    "    \n",
    "    start_time = time.time()\n",
    "    while time.time()-start_time < 10:\n",
    "        time.sleep(robot.dt)\n",
    "        t = time.time() - start_time\n",
    "        x = 0.1 * np.sin(t)\n",
    "        T= T0 @ np.vstack([np.hstack([np.eye(3), np.array([0,0,x]).reshape(3,1)]), np.array([0,0,0,1])])\n",
    "        state = robot.getJointStates()\n",
    "        q, dq = state['q'], state['dq']\n",
    "        cmd = controller.compute(q, dq, T_cmd=T)\n",
    "        robot.setCommands(cmd[:7])\n",
    "        robot.step()\n",
    "\n",
    "    robot.setCommands(np.zeros(7))\n",
    "    print('Demo ended.')\n",
    "else:\n",
    "    print('State is None. check the connection')"
   ]
  }
 ],
 "metadata": {
  "kernelspec": {
   "display_name": "Python 3",
   "language": "python",
   "name": "python3"
  },
  "language_info": {
   "codemirror_mode": {
    "name": "ipython",
    "version": 3
   },
   "file_extension": ".py",
   "mimetype": "text/x-python",
   "name": "python",
   "nbconvert_exporter": "python",
   "pygments_lexer": "ipython3",
   "version": "3.10.12"
  }
 },
 "nbformat": 4,
 "nbformat_minor": 2
}
