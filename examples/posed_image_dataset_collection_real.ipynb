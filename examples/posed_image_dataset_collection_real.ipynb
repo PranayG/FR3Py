{
 "cells": [
  {
   "attachments": {},
   "cell_type": "markdown",
   "metadata": {},
   "source": [
    "# Posed Image Dataset Collection"
   ]
  },
  {
   "cell_type": "code",
   "execution_count": 19,
   "metadata": {},
   "outputs": [],
   "source": [
    "import os\n",
    "import shutil\n",
    "dataset_path = 'dataset/apr27'\n",
    "seg_path = os.path.join(dataset_path, 'seg')\n",
    "rgb_path = os.path.join(dataset_path, 'rgb')\n",
    "depth_path = os.path.join(dataset_path, 'depth')"
   ]
  },
  {
   "cell_type": "code",
   "execution_count": 20,
   "metadata": {},
   "outputs": [
    {
     "name": "stdout",
     "output_type": "stream",
     "text": [
      "Interface Running...\n"
     ]
    }
   ],
   "source": [
    "from FR3Py.robot.interface import FR3Real\n",
    "robot = FR3Real()"
   ]
  },
  {
   "cell_type": "markdown",
   "metadata": {},
   "source": [
    "Test the interface by reading the robot joints:"
   ]
  },
  {
   "cell_type": "code",
   "execution_count": 34,
   "metadata": {},
   "outputs": [
    {
     "data": {
      "text/plain": [
       "{'q': array([ 8.63941914e-04, -7.85562271e-01,  4.09466144e-03, -2.50432516e+00,\n",
       "         6.43262257e-04,  1.56899149e+00,  7.86522003e-01]),\n",
       " 'dq': array([ 0.00086346,  0.00030254, -0.00175622,  0.00044854,  0.00081198,\n",
       "         0.00053098,  0.00153839]),\n",
       " 'T': array([-0.08401799, -4.17108297, -0.9263519 , 23.32584   ,  0.72526777,\n",
       "         1.94913459, -0.06360409])}"
      ]
     },
     "execution_count": 34,
     "metadata": {},
     "output_type": "execute_result"
    }
   ],
   "source": [
    "robot.getStates()"
   ]
  },
  {
   "cell_type": "code",
   "execution_count": 22,
   "metadata": {},
   "outputs": [
    {
     "name": "stdout",
     "output_type": "stream",
     "text": [
      "Put your stick at zero location and do not touch it\n"
     ]
    }
   ],
   "source": [
    "from FR3Py.joysticks import PyGameJoyManager\n",
    "import time    \n",
    "joy1  = PyGameJoyManager()\n",
    "joy1.start_daq(joy_idx=0)\n",
    "joy1.offset_calibration()\n",
    "time.sleep(3)"
   ]
  },
  {
   "cell_type": "code",
   "execution_count": 24,
   "metadata": {},
   "outputs": [
    {
     "name": "stdout",
     "output_type": "stream",
     "text": [
      "Enabling streams for camera:  318122302882\n",
      "Warning: HD color fps cannot be higher than 30\n",
      "Warning: HD depth/infrared fps cannot be higher than 30\n"
     ]
    }
   ],
   "source": [
    "from SimpleHandEye.interfaces.cameras import RealSenseCamera\n",
    "camera = RealSenseCamera(VGA=False, enable_imu=False, enable_ir=True, emitter_enabled=True, align_to_color=False)\n",
    "ext_params = camera.getExtrinsics()\n",
    "int_params = camera.getIntrinsics()"
   ]
  },
  {
   "cell_type": "code",
   "execution_count": 25,
   "metadata": {},
   "outputs": [],
   "source": [
    "import pickle\n",
    "with open(os.path.join(dataset_path,'camera_params.pkl'), 'wb') as f:\n",
    "    pickle.dump({'ext_params':ext_params, 'int_params':int_params}, f)"
   ]
  },
  {
   "cell_type": "code",
   "execution_count": 26,
   "metadata": {},
   "outputs": [
    {
     "ename": "KeyboardInterrupt",
     "evalue": "",
     "output_type": "error",
     "traceback": [
      "\u001b[0;31m---------------------------------------------------------------------------\u001b[0m",
      "\u001b[0;31mKeyboardInterrupt\u001b[0m                         Traceback (most recent call last)",
      "Cell \u001b[0;32mIn[26], line 84\u001b[0m\n\u001b[1;32m     82\u001b[0m camera\u001b[38;5;241m.\u001b[39mgrab_frames()\n\u001b[1;32m     83\u001b[0m cv2\u001b[38;5;241m.\u001b[39mimshow(\u001b[38;5;124m'\u001b[39m\u001b[38;5;124mcolor\u001b[39m\u001b[38;5;124m'\u001b[39m, camera\u001b[38;5;241m.\u001b[39mcolor_frame)\n\u001b[0;32m---> 84\u001b[0m \u001b[43mcv2\u001b[49m\u001b[38;5;241;43m.\u001b[39;49m\u001b[43mwaitKey\u001b[49m\u001b[43m(\u001b[49m\u001b[38;5;241;43m1\u001b[39;49m\u001b[43m)\u001b[49m\n\u001b[1;32m     85\u001b[0m \u001b[38;5;66;03m# Take a snapshot if required\u001b[39;00m\n\u001b[1;32m     86\u001b[0m shutter \u001b[38;5;241m=\u001b[39m digital[\u001b[38;5;241m2\u001b[39m]\n",
      "\u001b[0;31mKeyboardInterrupt\u001b[0m: "
     ]
    }
   ],
   "source": [
    "import time\n",
    "import numpy as np\n",
    "from FR3Py.controllers.jacobianPseudoInv import WaypointController\n",
    "import datetime\n",
    "import os\n",
    "import cv2\n",
    "import pandas as pd\n",
    "from scipy.spatial.transform import Rotation as R\n",
    "shutter_old = 0 \n",
    "\n",
    "if os.path.exists(depth_path):\n",
    "        shutil.rmtree(depth_path)\n",
    "# Create the input_model directory\n",
    "os.makedirs(depth_path, exist_ok=True)\n",
    "\n",
    "if os.path.exists(rgb_path):\n",
    "        shutil.rmtree(rgb_path)\n",
    "# Create the input_model directory\n",
    "os.makedirs(rgb_path, exist_ok=True)\n",
    "\n",
    "if os.path.exists(seg_path):\n",
    "        shutil.rmtree(seg_path)\n",
    "# Create the input_model directory\n",
    "os.makedirs(seg_path, exist_ok=True)\n",
    "\n",
    "def write_depth(depth, filename):\n",
    "    depth = depth.astype(np.uint16)\n",
    "    cv2.imwrite(filename, depth)\n",
    "\n",
    "def write_color(color, filename):\n",
    "    color = color.astype(np.uint8)\n",
    "    cv2.imwrite(filename, color)\n",
    "\n",
    "def write_pose(pose, filename):\n",
    "    np.savetxt(filename, pose)\n",
    "    \n",
    "\n",
    "controller = WaypointController(kp=4)\n",
    "# Read the initila pose of the robot\n",
    "time.sleep(1)\n",
    "state = robot.getStates()\n",
    "\n",
    "q, dq = state['q'], state['dq']\n",
    "q = np.hstack([q, np.zeros(2)])\n",
    "dq = np.hstack([dq, np.zeros(2)])\n",
    "p0 = controller.robot.getInfo(q,dq)['P_EE']\n",
    "R0 = controller.robot.getInfo(q,dq)['R_EE']\n",
    "\n",
    "T0 = np.vstack([np.hstack([R0, p0.reshape(3,1)]), np.array([0,0,0,1])])\n",
    "start_time = time.time()\n",
    "\n",
    "x0, y0, z0 = 0.0, 0.0, 0.0 \n",
    "R0 = np.eye(3)\n",
    "ef_poses = []\n",
    "stamps = []\n",
    "pose_dataset = []\n",
    "running = 0\n",
    "while running==0:\n",
    "    trans = controller.robot.getInfo(q,dq)['P_EE']\n",
    "    rot = controller.robot.getInfo(q,dq)['R_EE']\n",
    "    stamps.append(time.time())\n",
    "    pose = np.vstack([np.hstack([rot, trans.reshape(3,1)]), np.array([0,0,0,1])])\n",
    "\n",
    "    analog, digital = joy1.read_values()\n",
    "    running = digital[1]\n",
    "\n",
    "    cmd = np.array([analog[0],analog[1],analog[2]])\n",
    "    for i in range(3):\n",
    "        if np.abs(cmd[i])<0.1:\n",
    "            cmd[i] = 0 \n",
    "\n",
    "    if digital[0]==0:\n",
    "        y0 = y0 - cmd[0]*0.2/100\n",
    "        x0 = x0 - cmd[1]*0.2/100\n",
    "        z0 = z0 + cmd[2]*0.2/100\n",
    "    else:\n",
    "        omega_hat = np.array([[ 0,       -cmd[2],  cmd[1]],\n",
    "                              [ cmd[2],   0,      -cmd[0]],\n",
    "                              [-cmd[1],   cmd[0],      0]])\n",
    "        R0 = R0@(np.eye(3)+omega_hat/100)\n",
    "    \n",
    "    camera.grab_frames()\n",
    "    cv2.imshow('color', camera.color_frame)\n",
    "    cv2.waitKey(10)\n",
    "    # Take a snapshot if required\n",
    "    shutter = digital[2]\n",
    "    if shutter==1 and shutter_old==0:\n",
    "        stamp_ns = int(time.time()*1e9)\n",
    "        shutter_old = shutter\n",
    "        depth = camera.depth_frame\n",
    "        color = camera.color_frame\n",
    "        print('Taking a picture')\n",
    "        write_depth(depth, os.path.join(depth_path, f'{stamp_ns}.png'))\n",
    "        write_color(color, os.path.join(rgb_path, f'{stamp_ns}.png'))\n",
    "        pos = pose[0:3,3].squeeze()\n",
    "        q = R.from_matrix(pose[:3,:3]).as_quat().squeeze()\n",
    "        pose_dataset.append(np.hstack([stamp_ns, pos, q]))\n",
    "    else:\n",
    "        shutter_old = shutter\n",
    "\n",
    "    T= T0@np.vstack([np.hstack([R0, np.array([x0,y0,z0]).reshape(3,1)]), np.array([0,0,0,1])])\n",
    "    state = robot.getStates()\n",
    "    q, dq = state['q'], state['dq']\n",
    "    q = np.hstack([q, np.zeros(2)])\n",
    "    dq = np.hstack([dq, np.zeros(2)])\n",
    "    cmd = controller.compute(q,dq, T_cmd=T)\n",
    "    # robot.setCommands(cmd[:7])\n",
    "    robot.setCommands(np.zeros(7))\n",
    "\n",
    "pd.DataFrame(data=pose_dataset, columns=['id', 'x', 'y', 'z', 'qx', 'qy', 'qz', 'qw']).to_csv(f'{dataset_path}/pose.csv', index=False)\n",
    "print('Dataset collection procedure ended.')\n",
    "cv2.destroyAllWindows()"
   ]
  },
  {
   "cell_type": "code",
   "execution_count": null,
   "metadata": {},
   "outputs": [],
   "source": [
    "pd.DataFrame(data=pose_dataset, columns=['id', 'x', 'y', 'z', 'qx', 'qy', 'qz', 'qw']).to_csv(f'{dataset_path}/pose.csv', index=False)\n",
    "print('Dataset collection procedure ended.')\n",
    "cv2.destroyAllWindows()"
   ]
  }
 ],
 "metadata": {
  "kernelspec": {
   "display_name": "Python 3",
   "language": "python",
   "name": "python3"
  },
  "language_info": {
   "codemirror_mode": {
    "name": "ipython",
    "version": 3
   },
   "file_extension": ".py",
   "mimetype": "text/x-python",
   "name": "python",
   "nbconvert_exporter": "python",
   "pygments_lexer": "ipython3",
   "version": "3.8.18"
  },
  "orig_nbformat": 4,
  "vscode": {
   "interpreter": {
    "hash": "916dbcbb3f70747c44a77c7bcd40155683ae19c65e1c03b4aa3499c5328201f1"
   }
  }
 },
 "nbformat": 4,
 "nbformat_minor": 2
}
